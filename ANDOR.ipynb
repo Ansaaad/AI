{
  "nbformat": 4,
  "nbformat_minor": 0,
  "metadata": {
    "colab": {
      "provenance": [],
      "authorship_tag": "ABX9TyOCKWumu6+OcYj8gW+gWUkn",
      "include_colab_link": true
    },
    "kernelspec": {
      "name": "python3",
      "display_name": "Python 3"
    },
    "language_info": {
      "name": "python"
    }
  },
  "cells": [
    {
      "cell_type": "markdown",
      "metadata": {
        "id": "view-in-github",
        "colab_type": "text"
      },
      "source": [
        "<a href=\"https://colab.research.google.com/github/Ansaaad/AI/blob/main/ANDOR.ipynb\" target=\"_parent\"><img src=\"https://colab.research.google.com/assets/colab-badge.svg\" alt=\"Open In Colab\"/></a>"
      ]
    },
    {
      "cell_type": "code",
      "execution_count": 1,
      "metadata": {
        "id": "NiBq2vypPiw8"
      },
      "outputs": [],
      "source": [
        "import numpy as np"
      ]
    },
    {
      "cell_type": "code",
      "source": [
        "#Define step function\n",
        "def step(x, threshold=0.5):\n",
        "  return 1 if x >= threshold else 0\n",
        "\n",
        "#Initialize inputs and outputs for AND gate\n",
        "X = np.array([[0,0], [0,1], [1,0], [1,1]])\n",
        "y = np.array([0,0,0,1])\n",
        "\n",
        "#Randomly initialize weights with one decimal precision\n",
        "weights = np.round(np.random.rand(X.shape[1]),1)\n",
        "print(\"Initial weights:\", weights)\n",
        "\n",
        "#Learning parameters\n",
        "lr = 0.1\n",
        "threshold = 0.5\n",
        "\n",
        "#training loop\n",
        "while True:\n",
        "  iterateFlag = False\n",
        "  for x_input, y_actual in zip(X, y):\n",
        "    #calculate weighted sum and prediction\n",
        "    weighted_sum = np.dot(x_input, weights)\n",
        "    y_pred = step(weighted_sum, threshold)\n",
        "\n",
        "    #updated weights if prediction is incorrect\n",
        "    error = y_actual - y_pred\n",
        "    if error != 0:\n",
        "      iterateFlag = True\n",
        "      weights += lr *error * x_input\n",
        "      print(f\"Input: {x_input}, Actual: {y_actual}, Predicted: {y_pred}, Updated_weights: {weights}\")\n",
        "  if not iterateFlag:\n",
        "    break\n",
        "\n",
        "print(\"Final Weights:\", weights)"
      ],
      "metadata": {
        "colab": {
          "base_uri": "https://localhost:8080/"
        },
        "id": "_Njgacs3QJcm",
        "outputId": "2c2f5cd5-d10d-4475-e048-06457d5f246c"
      },
      "execution_count": 2,
      "outputs": [
        {
          "output_type": "stream",
          "name": "stdout",
          "text": [
            "Initial weights: [0.2 0.7]\n",
            "Input: [0 1], Actual: 0, Predicted: 1, Updated_weights: [0.2 0.6]\n",
            "Input: [0 1], Actual: 0, Predicted: 1, Updated_weights: [0.2 0.5]\n",
            "Input: [0 1], Actual: 0, Predicted: 1, Updated_weights: [0.2 0.4]\n",
            "Final Weights: [0.2 0.4]\n"
          ]
        }
      ]
    }
  ]
}